{
 "cells": [
  {
   "cell_type": "code",
   "execution_count": 1,
   "metadata": {
    "collapsed": true
   },
   "outputs": [],
   "source": [
    "def count(g,s):\n",
    "    TP = TN = FP = FN = 0\n",
    "    for i in range(0,len(g)):\n",
    "        if (g[i]==s[i] and s[i]==1): TP+=1\n",
    "        if (g[i]==s[i] and s[i]==0): TN+=1\n",
    "        if (g[i]!=s[i] and s[i]==1): FP+=1\n",
    "        if (g[i]!=s[i] and s[i]==0): FN+=1\n",
    "    return [TP,TN,FP,FN]\n",
    "    \n",
    "def MSRP_eval(gs, sys):\n",
    "    [TP,TN,FP,FN] = count(gs,sys)\n",
    "    acc = (TP+TN)/float(TP+TN+FP+FN) # ACCURACY\n",
    "    reject = TN/float(TN+FP) # precision on negative SPECIFICITY\n",
    "    accept = TP/float(TP+FN) # precision on positive SENSITIVITY\n",
    "    print(\"acc=\",acc,\" reject=\",reject,\" accept=\",accept)"
   ]
  },
  {
   "cell_type": "code",
   "execution_count": 100,
   "metadata": {},
   "outputs": [
    {
     "data": {
      "text/html": [
       "<script>requirejs.config({paths: { 'plotly': ['https://cdn.plot.ly/plotly-latest.min']},});if(!window.Plotly) {{require(['plotly'],function(plotly) {window.Plotly=plotly;});}}</script>"
      ],
      "text/vnd.plotly.v1+html": [
       "<script>requirejs.config({paths: { 'plotly': ['https://cdn.plot.ly/plotly-latest.min']},});if(!window.Plotly) {{require(['plotly'],function(plotly) {window.Plotly=plotly;});}}</script>"
      ]
     },
     "metadata": {},
     "output_type": "display_data"
    }
   ],
   "source": [
    "import numpy as np\n",
    "import pandas as pd\n",
    "import nbimporter\n",
    "\n",
    "from nltk.parse.bllip import BllipParser\n",
    "from nltk.data import find\n",
    "from nltk import Tree\n",
    "from nltk.draw.util import CanvasFrame\n",
    "from nltk.draw import TreeWidget\n",
    "from sklearn.linear_model import LogisticRegression\n",
    "from nltk.metrics import *\n",
    "from nltk.tag import *\n",
    "from nltk.corpus import treebank\n",
    "from sent_utils import *\n",
    "from plotly.offline import download_plotlyjs, init_notebook_mode, plot, iplot\n",
    "from plotly.graph_objs import Scatter, Figure, Layout\n",
    "init_notebook_mode(connected=True)\n",
    "MODEL_PATH = find('models/bllip_wsj_no_aux').path\n",
    "PARSER = BllipParser.from_unified_model_dir(MODEL_PATH)"
   ]
  },
  {
   "cell_type": "code",
   "execution_count": 103,
   "metadata": {},
   "outputs": [],
   "source": [
    "# Paraphrase detectors\n",
    "def bllip_paraphrase_detector(sent_0, sent_1):\n",
    "    print('.', end='')\n",
    "    sent_0, sent_1 = remove_punctuation(sent_0.lower()), remove_punctuation(sent_1.lower())\n",
    "    words_0, words_1 = words_from_sent(sent_0), words_from_sent(sent_1)\n",
    "    tokens_0, tokens_1 = tokens_from_words(words_0), tokens_from_words(words_1)\n",
    "    lemmas_0, lemmas_1 = tokens_to_lemmas(tokens_0), tokens_to_lemmas(tokens_1)\n",
    "    senses_0, senses_1 = tokens_to_senses(tokens_0), tokens_to_senses(tokens_1)\n",
    "    top_synsets_0, top_synsets_1 = [sense[0] for sense in senses_0], [sense[0] for sense in senses_1]\n",
    "#     synset_distance = []\n",
    "#     for synsetA in top_synsets_0:\n",
    "#         for synsetB in top_synsets_1:\n",
    "#             similarity = synsetA.path_similarity(synsetB)\n",
    "#             if similarity:\n",
    "#                 synset_distance.append(similarity)\n",
    "    return [\n",
    "        jaccard_distance(set(top_synsets_0), set(top_synsets_1)),\n",
    "        jaccard_distance(set(lemmas_0), set(lemmas_1))\n",
    "#         ,\n",
    "#         np.mean(synset_distance)\n",
    "    ]\n",
    "def bllip_parse():\n",
    "    PARSER.parse_one(line.split())\n",
    "def draw_tree(line):\n",
    "    cf = CanvasFrame()\n",
    "    t = Tree.fromstring(line)\n",
    "    tc = TreeWidget(cf.canvas(),t)\n",
    "    cf.add_widget(tc,10,10) # (10,10) offsets\n",
    "    cf.print_to_file('tree.ps')\n",
    "    cf.destroy()"
   ]
  },
  {
   "cell_type": "code",
   "execution_count": 7,
   "metadata": {
    "collapsed": true
   },
   "outputs": [],
   "source": [
    "input_sentences = text_to_sentences('IHLT-eval-framework/train/msr_paraphrase_train_input.txt')"
   ]
  },
  {
   "cell_type": "code",
   "execution_count": 8,
   "metadata": {},
   "outputs": [
    {
     "name": "stdout",
     "output_type": "stream",
     "text": [
      "............................................................................................................................................................................................................................................................................................................................................................................................................................................................................................................................................................................................................................................................................................................................................................................................................................................................................................................................................................................................................................................................................................................................................................................................................................................................................................................................................................................................................................................................................................................................................................................................................................................................................................................................................................................................................................................................................................................................................................................................................................................................................................................................................................................................................................................................................................................................................................................................................................................................................................................................................................................................................................................................................................................................................................................................................................................................................................................................................................................................................................................................................................................................................................................................................................................................................................................................................................................................................................................................................................................................................................................................................................................................................................................................................................................................................................................................................................................................................................................................................................................................................................................................................................................................................................................"
     ]
    }
   ],
   "source": [
    "X_train = [lemma_synset_jaccard(data[0], data[1]) for data in input_sentences]"
   ]
  },
  {
   "cell_type": "code",
   "execution_count": 9,
   "metadata": {
    "collapsed": true
   },
   "outputs": [],
   "source": [
    "y_train = open('IHLT-eval-framework/train/msr_paraphrase_train_gs.txt', encoding=\"UTF8\").readlines()\n",
    "y_train[0] = '1'\n",
    "y_train = [int(line.strip()) for line in y_train]"
   ]
  },
  {
   "cell_type": "code",
   "execution_count": 10,
   "metadata": {},
   "outputs": [
    {
     "name": "stdout",
     "output_type": "stream",
     "text": [
      "............................................................................................................................................................................................................................................................................................................................................................................................................................................................................................................................................................................................................................................................................................................................................................................................................................................................................................................................................................................................................................................................................................................................................................................................................................................................................................................................................................................................................................................................................................................................................................................................................................................................................................................................................................................................."
     ]
    }
   ],
   "source": [
    "X_test = text_to_sentences('IHLT-eval-framework/test/msr_paraphrase_test_input.txt')\n",
    "X_test = [lemma_synset_jaccard(data[0], data[1]) for data in X_test]"
   ]
  },
  {
   "cell_type": "code",
   "execution_count": 24,
   "metadata": {
    "collapsed": true
   },
   "outputs": [],
   "source": [
    "y_test = open('IHLT-eval-framework/test/msr_paraphrase_test_gs.txt', encoding=\"UTF8\").readlines()\n",
    "y_test = [int(line.strip()) for line in y_test]"
   ]
  },
  {
   "cell_type": "code",
   "execution_count": 12,
   "metadata": {},
   "outputs": [
    {
     "name": "stdout",
     "output_type": "stream",
     "text": [
      "acc= 0.7043478260869566  reject= 0.5982658959537572  accept= 0.7309644670050761\n"
     ]
    }
   ],
   "source": [
    "regression = LogisticRegression()\n",
    "regression.fit(X_train, y_train)\n",
    "prediction = regression.predict(X_test)\n",
    "MSRP_eval(prediction, y_test)"
   ]
  },
  {
   "cell_type": "code",
   "execution_count": 86,
   "metadata": {},
   "outputs": [],
   "source": [
    "X_test = text_to_sentences('IHLT-eval-framework/test/msr_paraphrase_test_input.txt')\n",
    "false_negative_idx = np.where((prediction != y_test) & (prediction == 0))[0]"
   ]
  },
  {
   "cell_type": "code",
   "execution_count": 99,
   "metadata": {},
   "outputs": [
    {
     "name": "stdout",
     "output_type": "stream",
     "text": [
      "['Shares ended Wednesday at $6.83, up 2 cents.', 'Shares of Goodyear rose 2 cents on Wednesday and closed at $6.83.']\n"
     ]
    }
   ],
   "source": [
    "false_negatives = [ X_test[i] for i in list(indices[0]) ]\n",
    "lengths = []\n",
    "for n in false_negatives:\n",
    "    if (len(n[0]) == 44):\n",
    "        print(n)\n",
    "    lengths.append(len(n[0]))"
   ]
  },
  {
   "cell_type": "code",
   "execution_count": 98,
   "metadata": {},
   "outputs": [
    {
     "data": {
      "text/plain": [
       "44"
      ]
     },
     "execution_count": 98,
     "metadata": {},
     "output_type": "execute_result"
    }
   ],
   "source": [
    "np.min(lengths)"
   ]
  }
 ],
 "metadata": {
  "kernelspec": {
   "display_name": "Python 3",
   "language": "python",
   "name": "python3"
  },
  "language_info": {
   "codemirror_mode": {
    "name": "ipython",
    "version": 3
   },
   "file_extension": ".py",
   "mimetype": "text/x-python",
   "name": "python",
   "nbconvert_exporter": "python",
   "pygments_lexer": "ipython3",
   "version": "3.6.2"
  }
 },
 "nbformat": 4,
 "nbformat_minor": 2
}
