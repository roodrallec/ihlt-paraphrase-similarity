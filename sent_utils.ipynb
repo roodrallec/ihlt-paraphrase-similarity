{
 "cells": [
  {
   "cell_type": "code",
   "execution_count": 2,
   "metadata": {},
   "outputs": [],
   "source": [
    "# A collection of useful functions built during the course\n",
    "import string\n",
    "from nltk import word_tokenize, pos_tag\n",
    "from nltk.stem import WordNetLemmatizer\n",
    "from nltk.corpus import wordnet, stopwords\n",
    "from nltk.data import find"
   ]
  },
  {
   "cell_type": "code",
   "execution_count": 10,
   "metadata": {
    "collapsed": true
   },
   "outputs": [],
   "source": [
    "# Removing the punctuation and lowering the case of a string\n",
    "def remove_punctuation(line):\n",
    "    return line.translate(str.maketrans('', '', string.punctuation))\n",
    "\n",
    "# extract the words from the sentence\n",
    "def words_from_sent(sent):\n",
    "    # tokenized\n",
    "    tokenized = word_tokenize(sent)\n",
    "    # remove stopwords and return\n",
    "    return [word for word in tokenized if word not in stopwords.words('english')]\n",
    "\n",
    "# convert words to tokens\n",
    "def tokens_from_words(words):\n",
    "    return pos_tag(words)\n",
    "\n",
    "# Function to get wordnet pos code\n",
    "def wordnet_pos_code(tag):\n",
    "    if tag.startswith('NN'):\n",
    "        return wordnet.NOUN\n",
    "    elif tag.startswith('VB'):\n",
    "        return wordnet.VERB\n",
    "    elif tag.startswith('JJ'):\n",
    "        return wordnet.ADJ\n",
    "    elif tag.startswith('RB'):\n",
    "        return wordnet.ADV\n",
    "    else:\n",
    "        return None\n",
    "# Tokens to lemmas using wordnet lemmatizer    \n",
    "def tokens_to_lemmas(tokens):\n",
    "    return list(map(token_to_lemmas, tokens))\n",
    "\n",
    "def token_to_lemmas(token):    \n",
    "    pos = wordnet_pos_code(token[1])\n",
    "    if pos:\n",
    "        return WordNetLemmatizer().lemmatize(token[0], pos=pos)\n",
    "    return token[0]\n",
    "\n",
    "# Convert tokens to senses where sense is the first synset + POS\n",
    "def tokens_to_senses(tokens):\n",
    "    return list(filter(None, map(token_to_sense, tokens)))\n",
    "\n",
    "def token_to_sense(token):\n",
    "    lemma = WordNetLemmatizer().lemmatize(token[0])\n",
    "    pos = wordnet_pos_code(token[1])\n",
    "    synsets = []\n",
    "    if pos: \n",
    "        return wordnet.synsets(lemma, pos=pos)\n",
    "\n",
    "# Load the lines of training text as sentences\n",
    "def text_to_sentences(filename):\n",
    "    sentence_pair_array = []\n",
    "    for line in open(filename, encoding=\"UTF8\").readlines():\n",
    "        sentence_pair_array.append([s.strip() for s in line.split(\"\\t\")])\n",
    "    return sentence_pair_array\n",
    "\n",
    "def parse_pos(sentence):\n",
    "    return bllip.parse_one(sentence)"
   ]
  },
  {
   "cell_type": "code",
   "execution_count": 3,
   "metadata": {
    "collapsed": true
   },
   "outputs": [],
   "source": [
    "def compare_synsets(synset_a, synset_b):\n",
    "    lcs = synset_a.lowest_common_hypernyms(synset_b)\n",
    "    similarity = synset_a.path_similarity(synset_b)\n",
    "    wup_similarity = synset_a.wup_similarity(synset_b)\n",
    "    lin_similarity = synset_a.lin_similarity(synset_b, brown_ic)                        \n",
    "    lch_similarity = synset_a.lch_similarity(synset_b)\n",
    "    return lcs, similarity, wup_similarity, lin_similarity, lch_similarity"
   ]
  },
  {
   "cell_type": "code",
   "execution_count": 2,
   "metadata": {
    "collapsed": true
   },
   "outputs": [],
   "source": [
    "def count(g,s):\n",
    "    TP = TN = FP = FN = 0\n",
    "    for i in range(0,len(g)):\n",
    "        if (g[i]==s[i] and s[i]==1): TP+=1\n",
    "        if (g[i]==s[i] and s[i]==0): TN+=1\n",
    "        if (g[i]!=s[i] and s[i]==1): FP+=1\n",
    "        if (g[i]!=s[i] and s[i]==0): FN+=1\n",
    "    return [TP,TN,FP,FN]\n",
    "    \n",
    "def MSRP_eval(gs, sys):\n",
    "    [TP,TN,FP,FN] = count(gs,sys)\n",
    "    acc = (TP+TN)/float(TP+TN+FP+FN) # ACCURACY\n",
    "    reject = TN/float(TN+FP) # precision on negative SPECIFICITY\n",
    "    accept = TP/float(TP+FN) # precision on positive SENSITIVITY\n",
    "    print(\"acc=\",acc,\" reject=\",reject,\" accept=\",accept)"
   ]
  }
 ],
 "metadata": {
  "kernelspec": {
   "display_name": "Python 3",
   "language": "python",
   "name": "python3"
  },
  "language_info": {
   "codemirror_mode": {
    "name": "ipython",
    "version": 3
   },
   "file_extension": ".py",
   "mimetype": "text/x-python",
   "name": "python",
   "nbconvert_exporter": "python",
   "pygments_lexer": "ipython3",
   "version": "3.6.2"
  }
 },
 "nbformat": 4,
 "nbformat_minor": 2
}
